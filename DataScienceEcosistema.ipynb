{
 "cells": [
  {
   "cell_type": "markdown",
   "id": "401e2fc8-fb2e-4716-99ef-4b8dbc941f03",
   "metadata": {},
   "source": [
    "<h1>Herramientas para la Ciencia de Datos</h1>"
   ]
  },
  {
   "cell_type": "markdown",
   "id": "7bdd6c65-df9d-47ed-a256-a5a22c2c7072",
   "metadata": {},
   "source": [
    "En este cuaderno de Jupyter, exploraremos el análisis de datos con Python. Abordaremos conceptos básicos como la lectura de datos, la limpieza, la manipulación y la visualización. También aprenderemos a utilizar algunas herramientas populares de la ciencia de datos como NumPy, Pandas y Matplotlib."
   ]
  },
  {
   "cell_type": "markdown",
   "id": "8617109e-bb4c-42bc-9ffd-3bbd2698aecd",
   "metadata": {},
   "source": [
    "<strong>A. Enumerar los lenguajes de la ciencia de datos.</strong>"
   ]
  },
  {
   "cell_type": "markdown",
   "id": "f010938e-cb27-4aab-b29b-603d91409c7d",
   "metadata": {},
   "source": [
    "<li type=\"disc\">Python</li>\n",
    "\n",
    "Lenguaje de propósito general, fácil de aprender y usar.\n",
    "Amplia comunidad de usuarios y desarrolladores.\n",
    "Gran cantidad de bibliotecas y frameworks para ciencia de datos, como NumPy, Pandas, Scikit-learn, TensorFlow y PyTorch.\n",
    "\n",
    "<li type=\"disc\">R</li>\n",
    "\n",
    "Lenguaje especializado en análisis estadístico y visualización de datos.\n",
    "Entorno de desarrollo integrado (RStudio) que facilita el trabajo.\n",
    "Amplia gama de paquetes para análisis de datos, aprendizaje automático y visualización.\n",
    "    \n",
    "<li type=\"disc\">SQL</li>\n",
    "\n",
    "Lenguaje de consulta para bases de datos.\n",
    "Esencial para trabajar con datos almacenados en bases de datos relacionales.\n",
    "Permite realizar operaciones como seleccionar, insertar, actualizar y eliminar datos.\n",
    "    \n",
    "Otros lenguajes que se pueden utilizar en ciencia de datos son:\n",
    "\n",
    "<li type=\"disc\"> Java: Lenguaje robusto y escalable, utilizado para aplicaciones de Big Data.</li>\n",
    "<li type=\"disc\">Scala: Lenguaje similar a Java, con características que lo hacen ideal para el procesamiento de datos a gran escala.</li>\n",
    "<li type=\"disc\">Julia: Lenguaje relativamente nuevo, diseñado para ser rápido y eficiente para la ciencia de datos.</li>\n",
    "\n",
    "\n",
    "\n",
    "\n",
    "\n",
    "\n",
    "\n",
    "\n",
    "\n",
    "\n",
    "\n",
    "\n",
    "\n",
    "\n",
    "\n",
    "\n",
    "\n",
    "\n",
    "\n",
    "\n",
    "\n",
    "\n",
    "\n",
    "\n",
    "\n"
   ]
  },
  {
   "cell_type": "markdown",
   "id": "f5c43431-f06e-4458-9fd3-ecf206d154b0",
   "metadata": {},
   "source": [
    "<strong>B. Enumerar los bibliotecas de ciencia de datos.</strong>"
   ]
  },
  {
   "cell_type": "markdown",
   "id": "688fa5c7-2501-46ea-b1e1-e832e25710f9",
   "metadata": {},
   "source": [
    "<ol>\n",
    "  <li>Python:</li>\n",
    "  <ul>\n",
    "    <li type=\"disc\">NumPy: Para computación científica con matrices.</li>\n",
    "    <li type=\"disc\">Pandas: Para análisis y manipulación de datos.</li>\n",
    "    <li type=\"disc\">Scikit-learn: Para aprendizaje automático.</li>\n",
    "    <li type=\"disc\">TensorFlow: Para aprendizaje profundo.</li>\n",
    "    <li type=\"disc\">PyTorch: Para aprendizaje profundo.</li>\n",
    "    <li type=\"disc\">Matplotlib: Para visualización de datos.</li>\n",
    "    <li type=\"disc\">Seaborn: Para visualización de datos.</li>\n",
    "  </ul>\n",
    "  <li>R:</li>\n",
    "  <ul>\n",
    "    <li type=\"disc\">base R: Funciones básicas para análisis estadístico y visualización de datos.</li>\n",
    "    <li type=\"disc\">ggplot2: Para visualización de datos.</li>\n",
    "    <li type=\"disc\">tidyverse: Conjunto de paquetes para análisis de datos.</li>\n",
    "    <li type=\"disc\">caret: Para aprendizaje automático.</li>\n",
    "    <li type=\"disc\">xgboost: Para aprendizaje automático.</li>\n",
    "  </ul>\n",
    "</ol>"
   ]
  },
  {
   "cell_type": "markdown",
   "id": "9f5b75ad-e65e-4d24-beed-d80ed7a539e1",
   "metadata": {},
   "source": [
    "<strong>C. Tabla de herramientas de Ciencia de Datos</strong>"
   ]
  },
  {
   "cell_type": "markdown",
   "id": "110eee92-bc1d-4e34-b57b-5d9824fbde35",
   "metadata": {},
   "source": [
    "<table>\n",
    "  <tr>\n",
    "    <th>Lenguaje</th>\n",
    "    <th>Herramienta</th>\n",
    "    <th>Descripción</th>\n",
    "  </tr>\n",
    "  <tr>\n",
    "    <td>Python</td>\n",
    "    <td>NumPy</td>\n",
    "    <td>Para computación científica con matrices.</td>\n",
    "  </tr>\n",
    "  <tr>\n",
    "    <td>Python</td>\n",
    "    <td>Pandas</td>\n",
    "    <td>Para análisis y manipulación de datos.</td>\n",
    "  </tr>\n",
    "  <tr>\n",
    "    <td>Python</td>\n",
    "    <td>Scikit-learn</td>\n",
    "    <td>Para aprendizaje automático.</td>\n",
    "  </tr>\n",
    "  <tr>\n",
    "    <td>Python</td>\n",
    "    <td>TensorFlow</td>\n",
    "    <td>Para aprendizaje profundo.</td>\n",
    "  </tr>\n",
    "  <tr>\n",
    "    <td>Python</td>\n",
    "    <td>PyTorch</td>\n",
    "    <td>Para aprendizaje profundo.</td>\n",
    "  </tr>\n",
    "  <tr>\n",
    "    <td>Python</td>\n",
    "    <td>Matplotlib</td>\n",
    "    <td>Para visualización de datos.</td>\n",
    "  </tr>\n",
    "  <tr>\n",
    "    <td>Python</td>\n",
    "    <td>Seaborn</td>\n",
    "    <td>Para visualización de datos.</td>\n",
    "  </tr>\n",
    "  <tr>\n",
    "    <td>R</td>\n",
    "    <td>base R</td>\n",
    "    <td>Funciones básicas para análisis estadístico y visualización de datos.</td>\n",
    "  </tr>\n",
    "  <tr>\n",
    "    <td>R</td>\n",
    "    <td>ggplot2</td>\n",
    "    <td>Para visualización de datos.</td>\n",
    "  </tr>\n",
    "  <tr>\n",
    "    <td>R</td>\n",
    "    <td>tidyverse</td>\n",
    "    <td>Conjunto de paquetes para análisis de datos.</td>\n",
    "  </tr>\n",
    "  <tr>\n",
    "    <td>R</td>\n",
    "    <td>caret</td>\n",
    "    <td>Para aprendizaje automático.</td>\n",
    "  </tr>\n",
    "  <tr>\n",
    "    <td>R</td>\n",
    "    <td>xgboost</td>\n",
    "    <td>Para aprendizaje automático.</td>\n",
    "  </tr>\n",
    "  <tr>\n",
    "    <td>SQL</td>\n",
    "    <td>MySQL</td>\n",
    "    <td>Sistema de gestión de bases de datos relacionales.</td>\n",
    "  </tr>\n",
    "  <tr>\n",
    "    <td>SQL</td>\n",
    "    <td>PostgreSQL</td>\n",
    "    <td>Sistema de gestión de bases de datos relacionales.</td>\n",
    "  </tr>\n",
    "  <tr>\n",
    "    <td>SQL</td>\n",
    "    <td>Oracle</td>\n",
    "    <td>Sistema de gestión de bases de datos relacionales.</td>\n",
    "  </tr>\n",
    "  <tr>\n",
    "    <td>SQL</td>\n",
    "    <td>Microsoft SQL Server</td>\n",
    "    <td>Sistema de gestión de bases de datos relacionales.</td>\n",
    "  </tr>\n",
    "  <tr>\n",
    "    <td>Otros</td>\n",
    "    <td>Apache Spark</td>\n",
    "    <td>Framework para el procesamiento de datos a gran escala.</td>\n",
    "  </tr>\n",
    "  <tr>\n",
    "    <td>Otros</td>\n",
    "    <td>Apache Hadoop</td>\n",
    "    <td>Sistema de archivos distribuidos para Big Data.</td>\n",
    "  </tr>\n",
    "  <tr>\n",
    "    <td>Otros</td>\n",
    "    <td>Kafka</td>\n",
    "    <td>Plataforma de streaming de datos.</td>\n",
    "  </tr>\n",
    "</table>\n"
   ]
  },
  {
   "cell_type": "markdown",
   "id": "c0f98a21-da58-4ec0-9960-d0c3c1bb3a3d",
   "metadata": {},
   "source": [
    "<strong>D. Introduciendo ejemplos de expresiones aritméticas.</strong>\n",
    "<li>Suma: 2 + 3 = 5</li>"
   ]
  },
  {
   "cell_type": "code",
   "execution_count": 4,
   "id": "f7d84334-6c70-4cb1-8701-6e3218c6aa86",
   "metadata": {
    "scrolled": true
   },
   "outputs": [
    {
     "data": {
      "text/plain": [
       "12"
      ]
     },
     "execution_count": 4,
     "metadata": {},
     "output_type": "execute_result"
    }
   ],
   "source": [
    "#Operacion aritmetica combinada\n",
    "(3*2)+6"
   ]
  },
  {
   "cell_type": "code",
   "execution_count": 18,
   "id": "717e9d30-e0e4-41dd-b5f7-593f0e1d14a2",
   "metadata": {},
   "outputs": [
    {
     "name": "stdin",
     "output_type": "stream",
     "text": [
      "Ingrese el número de minutos:  120\n"
     ]
    },
    {
     "name": "stdout",
     "output_type": "stream",
     "text": [
      "120 minutos equivalen a 2 horas y 0 minutos.\n"
     ]
    }
   ],
   "source": [
    "#Convertir minutos a horas\n",
    "def convertir_minutos_a_horas(minutos):\n",
    "  horas = minutos // 60\n",
    "  minutos_restantes = minutos % 60\n",
    "  return horas, minutos_restantes\n",
    "\n",
    "# Ejemplo de uso\n",
    "minutos = int(input(\"Ingrese el número de minutos: \"))\n",
    "horas, minutos_restantes = convertir_minutos_a_horas(minutos)\n",
    "print(f\"{minutos} minutos equivalen a {horas} horas y {minutos_restantes} minutos.\")"
   ]
  },
  {
   "cell_type": "code",
   "execution_count": 19,
   "id": "f8a206b8-c78b-405d-a60d-4af8c1544899",
   "metadata": {},
   "outputs": [
    {
     "name": "stdout",
     "output_type": "stream",
     "text": [
      "Lista de Objetivos:\n",
      "1. Aprender un nuevo lenguaje de programación.\n",
      "2. Mejorar mis habilidades de comunicación.\n",
      "3. Conseguir un nuevo empleo.\n",
      "4. Viajar a un nuevo país.\n",
      "5. Hacer ejercicio regularmente.\n"
     ]
    }
   ],
   "source": [
    "#Listar objetos\n",
    "def listar_objetivos(objetivos):\n",
    "    print(\"Lista de Objetivos:\")\n",
    "    for i, objetivo in enumerate(objetivos, start=1):\n",
    "        print(f\"{i}. {objetivo}\")\n",
    "\n",
    "# Ejemplo de uso\n",
    "objetivos = [\n",
    "    \"Aprender un nuevo lenguaje de programación.\",\n",
    "    \"Mejorar mis habilidades de comunicación.\",\n",
    "    \"Conseguir un nuevo empleo.\",\n",
    "    \"Viajar a un nuevo país.\",\n",
    "    \"Hacer ejercicio regularmente.\",\n",
    "]\n",
    "listar_objetivos(objetivos)"
   ]
  },
  {
   "cell_type": "markdown",
   "id": "6a21d8a7-2402-41c9-928d-191e618167b4",
   "metadata": {},
   "source": [
    "<strong> Autor : Luis Felipe Gallegos Ayuque </strong>"
   ]
  },
  {
   "cell_type": "code",
   "execution_count": null,
   "id": "78909524-12df-4067-8879-c6b7402f0fca",
   "metadata": {},
   "outputs": [],
   "source": []
  }
 ],
 "metadata": {
  "kernelspec": {
   "display_name": "Python 3 (ipykernel)",
   "language": "python",
   "name": "python3"
  },
  "language_info": {
   "codemirror_mode": {
    "name": "ipython",
    "version": 3
   },
   "file_extension": ".py",
   "mimetype": "text/x-python",
   "name": "python",
   "nbconvert_exporter": "python",
   "pygments_lexer": "ipython3",
   "version": "3.12.2"
  }
 },
 "nbformat": 4,
 "nbformat_minor": 5
}
