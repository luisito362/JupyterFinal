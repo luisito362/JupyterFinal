{
 "cells": [
  {
   "cell_type": "markdown",
   "id": "386e3ffa-2077-4604-be80-987fddac89d7",
   "metadata": {},
   "source": [
    "<h1><strong>Assignment Topic</strong>:</h1>\n",
    "\n",
    "<h2>I was provided with an empty Jupyterlite notebook which I launched in the course, to complete this assignment. I needed to include a combination of markdown and code cells. I did not needed to use the Markdown cheat sheet to help me determine the appropriate syntax for my markdown.</h2>\n",
    "\n",
    "<h3>Guidelines for the submission:</h3> <br>\n",
    "<h4>There are a total of 25 points possible for this final project.</h4>\n",
    "\n",
    "<h5>I hope I will succeed, based on the following Exercises:</h5>\n",
    "\n",
    "<ol>\n",
    "\n",
    "<li>Exercise 2 - Create a markdown cell with the title of the notebook. (1 pt)</li>\n",
    "\n",
    "<li>Exercise 3 - Create a markdown cell for an introduction. (1 pt)</li>\n",
    "\n",
    "<li>Exercise 4 - Create a markdown cell to list data science languages. (3 pts)</li>\n",
    "\n",
    "<li>Exercise 5 - Create a markdown cell to list data science libraries. (3 pts)</li>\n",
    "\n",
    "<li>Exercise 6 - Create a markdown cell with a table of Data Science tools. (3 pts)</li>\n",
    "\n",
    "<li>Exercise 7 - Create a markdown cell introducing arithmetic expression examples. (1 pt)</li>\n",
    "\n",
    "<li>Exercise 8 - Create a code cell to multiply and add numbers.(2 pts)</li>\n",
    "\n",
    "<li>Exercise 9 - Create a code cell to convert minutes to hours. (2 pts)</li>\n",
    "\n",
    "<li>Exercise 10 -Insert a markdown cell to list Objectives. (3 pts)</li>\n",
    "\n",
    "<li>Exercise 11 - Create a markdown cell to indicate the Author’s name. (2 pts)</li>\n",
    "\n",
    "<li>Exercise 12 - Share your notebook through GitHub (3 pts)</li>\n",
    "\n",
    "<li>Exercise 13 - Take a screenshot of the first page of the notebook. (1 pt)</li>\n",
    "    \n",
    "</ol>"
   ]
  },
  {
   "cell_type": "markdown",
   "id": "3589aab3-4f0b-4a2d-959b-20687184ffcc",
   "metadata": {},
   "source": [
    "<strong>Exercise 1: Create a Jupyter Notebook</strong>"
   ]
  },
  {
   "cell_type": "markdown",
   "id": "9f1ecbd7-45cd-4583-af60-f08f5bfb5fa3",
   "metadata": {},
   "source": [
    "<h1>Name : DataScienceEcosistema</h1>"
   ]
  },
  {
   "cell_type": "markdown",
   "id": "b7609798-73df-4475-9181-5c9827cd8542",
   "metadata": {},
   "source": [
    "<strong>Exercise 2 - Create a markdown cell with the title of the notebook.</strong>"
   ]
  },
  {
   "cell_type": "markdown",
   "id": "401e2fc8-fb2e-4716-99ef-4b8dbc941f03",
   "metadata": {},
   "source": [
    "<h1>Herramientas para la Ciencia de Datos</h1>"
   ]
  },
  {
   "cell_type": "markdown",
   "id": "ce026c0c-bf75-482c-b6d5-67b9ebbb78d4",
   "metadata": {},
   "source": [
    "<strong>Exercise 3 - Create a markdown cell for an introduction. (1 pt)</strong>"
   ]
  },
  {
   "cell_type": "markdown",
   "id": "72d1b7ac-d4c9-434c-a0d4-0cede7cde61e",
   "metadata": {},
   "source": [
    "<p> En este cuaderno se resumen las herramientas de ciencia de datos y el ecosistema.<p>"
   ]
  },
  {
   "cell_type": "markdown",
   "id": "8617109e-bb4c-42bc-9ffd-3bbd2698aecd",
   "metadata": {},
   "source": [
    "<strong>A. Enumerar los lenguajes de la ciencia de datos.</strong>"
   ]
  },
  {
   "cell_type": "markdown",
   "id": "e8aa2ab7-1771-4208-a54e-44dae70ed301",
   "metadata": {},
   "source": [
    "<strong>Objectives:</strong>\n",
    "<ul>\n",
    "    <li>List popular languages that Data Scientists use.</li>\n",
    "    <li>List commonly used libraries used by Data Scientists.</li>\n",
    "    <li>Comment on Data Science tools.</li>\n",
    "</ul>\n",
    "    "
   ]
  },
  {
   "cell_type": "markdown",
   "id": "3508c48b-ffe8-4963-b8ca-cebb73998c00",
   "metadata": {},
   "source": [
    "<strong>Exercise 4 - Create a markdown cell to list data science languages. (3 pts)</strong>"
   ]
  },
  {
   "cell_type": "markdown",
   "id": "f010938e-cb27-4aab-b29b-603d91409c7d",
   "metadata": {},
   "source": [
    "Some of the popular languages that Data Scientists use are:\n",
    "<ol>\n",
    "    <li>Python.</li>\n",
    "    <li>R.</li>\n",
    "    <li>SQL.</li>\n",
    "    <li>Scala</li>\n",
    "    <li>Java</li>\n",
    "    <li>JavaScript</li>\n",
    "    <li>PHP</li>\n",
    "    <li>Ruby</li>\n",
    "   <li>Visual Basic</li>\n",
    "</ol>\n",
    "\n",
    "\n",
    "\n",
    "\n",
    "\n",
    "\n",
    "\n",
    "\n",
    "\n",
    "\n",
    "\n",
    "\n",
    "\n",
    "\n",
    "\n"
   ]
  },
  {
   "cell_type": "markdown",
   "id": "f5c43431-f06e-4458-9fd3-ecf206d154b0",
   "metadata": {},
   "source": [
    "<strong>Exercise 5 - Create a markdown cell to list data science libraries. (3 pts)</strong>"
   ]
  },
  {
   "cell_type": "markdown",
   "id": "688fa5c7-2501-46ea-b1e1-e832e25710f9",
   "metadata": {},
   "source": [
    "Some of the commonly used libraries used by Data Scientists include:\n",
    "<ol>\n",
    "    <li>Pandas</li>\n",
    "    <li>NumPy</li>\n",
    "    <li>Matplotlib</li>\n",
    "    <li>Seaborn</li>\n",
    "    <li>Scikit-learn</li>\n",
    "    <li>Keras</li>\n",
    "    <li>TensorFlow</li>\n",
    "    <li>Pytorch</li>\n",
    "    <li>Apache Spark</li>\n",
    "    <li>Vegas</li>\n",
    "    <li>Big DL</li>\n",
    "    <li>Ggplo2</li>\n",
    "    \n",
    "</ol>"
   ]
  },
  {
   "cell_type": "markdown",
   "id": "9f5b75ad-e65e-4d24-beed-d80ed7a539e1",
   "metadata": {},
   "source": [
    "<strong>Exercise 6 - Create a markdown cell with a table of Data Science tools. (3 pts)</strong>"
   ]
  },
  {
   "cell_type": "markdown",
   "id": "110eee92-bc1d-4e34-b57b-5d9824fbde35",
   "metadata": {},
   "source": [
    "<table>\n",
    "  <tr>\n",
    "    <th>Lenguaje</th>\n",
    "    <th>Herramienta</th>\n",
    "    <th>Descripción</th>\n",
    "  </tr>\n",
    "  <tr>\n",
    "    <td>Python</td>\n",
    "    <td>NumPy</td>\n",
    "    <td>Para computación científica con matrices.</td>\n",
    "  </tr>\n",
    "  <tr>\n",
    "    <td>Python</td>\n",
    "    <td>Pandas</td>\n",
    "    <td>Para análisis y manipulación de datos.</td>\n",
    "  </tr>\n",
    "  <tr>\n",
    "    <td>Python</td>\n",
    "    <td>Scikit-learn</td>\n",
    "    <td>Para aprendizaje automático.</td>\n",
    "  </tr>\n",
    "  <tr>\n",
    "    <td>Python</td>\n",
    "    <td>TensorFlow</td>\n",
    "    <td>Para aprendizaje profundo.</td>\n",
    "  </tr>\n",
    "  <tr>\n",
    "    <td>Python</td>\n",
    "    <td>PyTorch</td>\n",
    "    <td>Para aprendizaje profundo.</td>\n",
    "  </tr>\n",
    "  <tr>\n",
    "    <td>Python</td>\n",
    "    <td>Matplotlib</td>\n",
    "    <td>Para visualización de datos.</td>\n",
    "  </tr>\n",
    "  <tr>\n",
    "    <td>Python</td>\n",
    "    <td>Seaborn</td>\n",
    "    <td>Para visualización de datos.</td>\n",
    "  </tr>\n",
    "  <tr>\n",
    "    <td>R</td>\n",
    "    <td>base R</td>\n",
    "    <td>Funciones básicas para análisis estadístico y visualización de datos.</td>\n",
    "  </tr>\n",
    "  <tr>\n",
    "    <td>R</td>\n",
    "    <td>ggplot2</td>\n",
    "    <td>Para visualización de datos.</td>\n",
    "  </tr>\n",
    "  <tr>\n",
    "    <td>R</td>\n",
    "    <td>tidyverse</td>\n",
    "    <td>Conjunto de paquetes para análisis de datos.</td>\n",
    "  </tr>\n",
    "  <tr>\n",
    "    <td>R</td>\n",
    "    <td>caret</td>\n",
    "    <td>Para aprendizaje automático.</td>\n",
    "  </tr>\n",
    "  <tr>\n",
    "    <td>R</td>\n",
    "    <td>xgboost</td>\n",
    "    <td>Para aprendizaje automático.</td>\n",
    "  </tr>\n",
    "  <tr>\n",
    "    <td>SQL</td>\n",
    "    <td>MySQL</td>\n",
    "    <td>Sistema de gestión de bases de datos relacionales.</td>\n",
    "  </tr>\n",
    "  <tr>\n",
    "    <td>SQL</td>\n",
    "    <td>PostgreSQL</td>\n",
    "    <td>Sistema de gestión de bases de datos relacionales.</td>\n",
    "  </tr>\n",
    "  <tr>\n",
    "    <td>SQL</td>\n",
    "    <td>Oracle</td>\n",
    "    <td>Sistema de gestión de bases de datos relacionales.</td>\n",
    "  </tr>\n",
    "  <tr>\n",
    "    <td>SQL</td>\n",
    "    <td>Microsoft SQL Server</td>\n",
    "    <td>Sistema de gestión de bases de datos relacionales.</td>\n",
    "  </tr>\n",
    "  <tr>\n",
    "    <td>Otros</td>\n",
    "    <td>Apache Spark</td>\n",
    "    <td>Framework para el procesamiento de datos a gran escala.</td>\n",
    "  </tr>\n",
    "  <tr>\n",
    "    <td>Otros</td>\n",
    "    <td>Apache Hadoop</td>\n",
    "    <td>Sistema de archivos distribuidos para Big Data.</td>\n",
    "  </tr>\n",
    "  <tr>\n",
    "    <td>Otros</td>\n",
    "    <td>Kafka</td>\n",
    "    <td>Plataforma de streaming de datos.</td>\n",
    "  </tr>\n",
    "</table>\n"
   ]
  },
  {
   "cell_type": "markdown",
   "id": "c0f98a21-da58-4ec0-9960-d0c3c1bb3a3d",
   "metadata": {},
   "source": [
    "<strong>Exercise 7 - Create a markdown cell introducing arithmetic expression examples. (1 pt)</strong>\n"
   ]
  },
  {
   "cell_type": "markdown",
   "id": "2c57545c-1b44-4615-9569-0111e1431d48",
   "metadata": {},
   "source": [
    "<h3>Below are a few examples of evaluating arithmetic expressions in Python</h3>"
   ]
  },
  {
   "cell_type": "code",
   "execution_count": 4,
   "id": "ab880401-f4e3-47f7-9075-4ec85e9022fe",
   "metadata": {
    "scrolled": true
   },
   "outputs": [
    {
     "data": {
      "text/plain": [
       "9"
      ]
     },
     "execution_count": 4,
     "metadata": {},
     "output_type": "execute_result"
    }
   ],
   "source": [
    "# Arithmetic operations\n",
    "code = compile(\"5 + 4\", \"<string>\", \"eval\")\n",
    "eval(code)\n",
    "# Result: 9"
   ]
  },
  {
   "cell_type": "code",
   "execution_count": 5,
   "id": "1e5669b8-5934-4c71-bfdc-bb1cfd0e0001",
   "metadata": {},
   "outputs": [
    {
     "data": {
      "text/plain": [
       "24"
      ]
     },
     "execution_count": 5,
     "metadata": {},
     "output_type": "execute_result"
    }
   ],
   "source": [
    "code1 = compile(\"(5 + 7) * 2\", \"<string>\", \"eval\")\n",
    "eval(code1)\n",
    "# Result: 24"
   ]
  },
  {
   "cell_type": "code",
   "execution_count": 6,
   "id": "728d20f2-cee1-4856-be76-95af14e90e1c",
   "metadata": {},
   "outputs": [
    {
     "data": {
      "text/plain": [
       "65449.84694978735"
      ]
     },
     "execution_count": 6,
     "metadata": {},
     "output_type": "execute_result"
    }
   ],
   "source": [
    "import math\n",
    "# Volume of a sphere\n",
    "code2 = compile(\"4 / 3 * math.pi * math.pow(25, 3)\", \"<string>\", \"eval\")\n",
    "eval(code2)\n",
    "# Result: 65449.84694978735"
   ]
  },
  {
   "cell_type": "markdown",
   "id": "3590a472-8aec-4e62-8805-8131c4482902",
   "metadata": {},
   "source": [
    "<strong>Exercise 8 - Create a code cell to multiply and add numbers.(2 pts)</strong>"
   ]
  },
  {
   "cell_type": "markdown",
   "id": "0295d219-10b9-4e5c-ae4d-964c25247be0",
   "metadata": {},
   "source": [
    "This a simple arithmetic expression to mutiply then add integers"
   ]
  },
  {
   "cell_type": "code",
   "execution_count": 7,
   "id": "ded372f8-9c6d-4dd3-9d0e-ea007ac6c14e",
   "metadata": {},
   "outputs": [
    {
     "data": {
      "text/plain": [
       "17"
      ]
     },
     "execution_count": 7,
     "metadata": {},
     "output_type": "execute_result"
    }
   ],
   "source": [
    "(3*4)+5\n",
    "# Result: 17"
   ]
  },
  {
   "cell_type": "markdown",
   "id": "173eb911-a87b-4660-83f6-48ffb8b6b290",
   "metadata": {},
   "source": [
    "<strong>Exercise 9 - Create a code cell to convert minutes to hours. (2 pts)</strong>"
   ]
  },
  {
   "cell_type": "code",
   "execution_count": 12,
   "id": "91b68776-591e-449a-b9cc-9ce9bd5a89d5",
   "metadata": {},
   "outputs": [
    {
     "name": "stdin",
     "output_type": "stream",
     "text": [
      "Ingrese el número de minutos:  200\n"
     ]
    },
    {
     "name": "stdout",
     "output_type": "stream",
     "text": [
      "200 minutos equivalen a 3 horas y 20 minutos.\n"
     ]
    }
   ],
   "source": [
    "#Convertir minutos a horas\n",
    "def convertir_minutos_a_horas(minutos):\n",
    "  horas = minutos // 60\n",
    "  minutos_restantes = minutos % 60\n",
    "  return horas, minutos_restantes\n",
    "\n",
    "# Ejemplo de uso\n",
    "minutos = int(input(\"Ingrese el número de minutos: \"))\n",
    "horas, minutos_restantes = convertir_minutos_a_horas(minutos)\n",
    "print(f\"{minutos} minutos equivalen a {horas} horas y {minutos_restantes} minutos.\")"
   ]
  },
  {
   "cell_type": "markdown",
   "id": "0bdf3ae4-5ee5-4519-b795-ab2004c4e7ae",
   "metadata": {},
   "source": [
    "<strong>Exercise 10 -Insert a markdown cell to list Objectives.</strong>"
   ]
  },
  {
   "cell_type": "markdown",
   "id": "ea009b6f-6bcb-496c-966d-4059aa879b65",
   "metadata": {},
   "source": [
    "<p>Below the introduction cell created in Exercise 3, insert a new markdown cell to list the objectives that this notebook covered (i.e. some of the key takeaways from the course). In this new cell start with an introductory line titled: Objectives: in bold font. Then using an unordered list (bullets) indicate 3 to 5 items covered in this notebook, such as List popular languages for Data Science.</p>"
   ]
  },
  {
   "cell_type": "markdown",
   "id": "af6bdae8-88e4-4dcb-bea5-07a337005ed7",
   "metadata": {},
   "source": [
    "<strong>Exercise 11 - Create a markdown cell to indicate the Author’s name.</strong>"
   ]
  },
  {
   "cell_type": "markdown",
   "id": "6a21d8a7-2402-41c9-928d-191e618167b4",
   "metadata": {},
   "source": [
    "<h2>Author:</h2> Luis Gallegos"
   ]
  }
 ],
 "metadata": {
  "kernelspec": {
   "display_name": "Python 3 (ipykernel)",
   "language": "python",
   "name": "python3"
  },
  "language_info": {
   "codemirror_mode": {
    "name": "ipython",
    "version": 3
   },
   "file_extension": ".py",
   "mimetype": "text/x-python",
   "name": "python",
   "nbconvert_exporter": "python",
   "pygments_lexer": "ipython3",
   "version": "3.12.2"
  }
 },
 "nbformat": 4,
 "nbformat_minor": 5
}
